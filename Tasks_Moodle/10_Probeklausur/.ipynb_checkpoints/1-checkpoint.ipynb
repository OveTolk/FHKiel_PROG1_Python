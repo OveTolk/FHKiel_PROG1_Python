{
 "cells": [
  {
   "cell_type": "code",
   "execution_count": 6,
   "id": "2df637ca-d309-495d-ad1c-404898e93857",
   "metadata": {},
   "outputs": [
    {
     "name": "stdout",
     "output_type": "stream",
     "text": [
      "Die Zahl 1 ist quadriert 1\n",
      "Die Zahl 2 ist quadriert 4\n",
      "Die Zahl 3 ist quadriert 9\n",
      "Die Zahl 4 ist quadriert 16\n",
      "Die Zahl 5 ist quadriert 25\n"
     ]
    }
   ],
   "source": [
    "num_list = [1, 2, 3, 4, 5]\n",
    "\n",
    "for i in num_list:\n",
    "    quadriert = i * i\n",
    "    print(f\"Die Zahl {i} ist quadriert {quadriert}\")"
   ]
  },
  {
   "cell_type": "code",
   "execution_count": 9,
   "id": "aa4d1c0d-8fa4-4083-86b4-766aeda81675",
   "metadata": {},
   "outputs": [
    {
     "name": "stdin",
     "output_type": "stream",
     "text": [
      "Geben Sie die Zahl an von der die Fakultät berechnet werden soll:  3\n"
     ]
    },
    {
     "name": "stdout",
     "output_type": "stream",
     "text": [
      "6\n"
     ]
    }
   ],
   "source": [
    "def fakultaet():\n",
    "    userinput = int(input(\"Geben Sie die Zahl an von der die Fakultät berechnet werden soll: \"))\n",
    "    ergebnis = 1\n",
    "    for i in range(1, userinput+1):\n",
    "        ergebnis = ergebnis * i\n",
    "\n",
    "    print(ergebnis)\n",
    "\n",
    "def main():\n",
    "    fakultaet()\n",
    "\n",
    "main()\n",
    "        "
   ]
  },
  {
   "cell_type": "code",
   "execution_count": 20,
   "id": "ebf905e8-d9e0-4b7d-9bc8-d9211c30fdc7",
   "metadata": {},
   "outputs": [
    {
     "name": "stdin",
     "output_type": "stream",
     "text": [
      "Geben Sie bitte das Alter an:  -4\n"
     ]
    },
    {
     "name": "stdout",
     "output_type": "stream",
     "text": [
      "Die Zahl muss positiv sein! Bitte versuchen Sie es erneut!\n"
     ]
    },
    {
     "name": "stdin",
     "output_type": "stream",
     "text": [
      "Geben Sie bitte das Alter an:  2\n"
     ]
    },
    {
     "name": "stdout",
     "output_type": "stream",
     "text": [
      "Es handelt sich um eine positive Ganzzahl!\n"
     ]
    }
   ],
   "source": [
    "def userinput():\n",
    "    alter = input(\"Geben Sie bitte das Alter an: \")\n",
    "    return alter\n",
    "\n",
    "def checkInput(alter):\n",
    "    try:\n",
    "        alter = int(alter)\n",
    "        if alter >= 0:\n",
    "            print(\"Es handelt sich um eine positive Ganzzahl!\")\n",
    "        else:\n",
    "            print(\"Die Zahl muss positiv sein! Bitte versuchen Sie es erneut!\")\n",
    "            main()\n",
    "    except: \n",
    "        print(\"Bitte geben Sie das Alter in einer ganzen Zahl an!\")\n",
    "\n",
    "def main():\n",
    "    alter = userinput()\n",
    "    checkInput(alter)\n",
    "\n",
    "main()"
   ]
  },
  {
   "cell_type": "code",
   "execution_count": 23,
   "id": "e8221694-f264-4a90-b698-e1643b885950",
   "metadata": {},
   "outputs": [
    {
     "name": "stdin",
     "output_type": "stream",
     "text": [
      "Geben Sie bitte das Wort an:  Du bist ein Hund, Tilo\n"
     ]
    },
    {
     "name": "stdout",
     "output_type": "stream",
     "text": [
      "7\n"
     ]
    }
   ],
   "source": [
    "def userinput():\n",
    "    wort = input(\"Geben Sie bitte das Wort an: \")\n",
    "    return wort\n",
    "\n",
    "def anzahlvokale(wort):\n",
    "    vokale = \"aeiouAEIOU\"\n",
    "    anzahl = 0\n",
    "    for i in wort:\n",
    "        for ivokale in vokale:\n",
    "            if ivokale == i:\n",
    "                anzahl = anzahl + 1\n",
    "    print(anzahl)\n",
    "\n",
    "def main():\n",
    "    wort = userinput()\n",
    "    anzahlvokale(wort)\n",
    "\n",
    "main()"
   ]
  },
  {
   "cell_type": "code",
   "execution_count": 7,
   "id": "9028854f-01d6-43f3-9bf4-2ffe3c747411",
   "metadata": {},
   "outputs": [
    {
     "name": "stdout",
     "output_type": "stream",
     "text": [
      "Banane\n",
      "Erdbeere\n"
     ]
    }
   ],
   "source": [
    "obst = {\"Apfel\": 3, \"Banane\": 8, \"Orange\": 4, \"Erdbeere\": 6}\n",
    "\n",
    "def checkSize(dictionary):\n",
    "    list = []\n",
    "    for i in obst.items():\n",
    "        if i[1] > 5:\n",
    "            list.append(i[0])\n",
    "    for i in list:\n",
    "        print(i)\n",
    "    \n",
    "def main():\n",
    "    checkSize(obst)\n",
    "\n",
    "main()"
   ]
  },
  {
   "cell_type": "code",
   "execution_count": 3,
   "id": "56a25e78-bed5-426d-ab40-118cbe2fd4f7",
   "metadata": {},
   "outputs": [
    {
     "name": "stdout",
     "output_type": "stream",
     "text": [
      "apple\n",
      "avocado\n"
     ]
    }
   ],
   "source": [
    "list =  [\"apple\", \"banana\", \"orange\", \"avocado\", \"grape\"]\n",
    "\n",
    "def checkStartWithA(list_words):\n",
    "    for i in list_words:\n",
    "        if i[0] == \"a\":\n",
    "            print(i)\n",
    "\n",
    "def main():\n",
    "    checkStartWithA(list)\n",
    "\n",
    "main()"
   ]
  },
  {
   "cell_type": "code",
   "execution_count": null,
   "id": "a3e1a5bc-43a1-4286-b377-1fcbd3350d90",
   "metadata": {},
   "outputs": [],
   "source": [
    "class Rechteck():\n",
    "    "
   ]
  }
 ],
 "metadata": {
  "kernelspec": {
   "display_name": "Python 3 (ipykernel)",
   "language": "python",
   "name": "python3"
  },
  "language_info": {
   "codemirror_mode": {
    "name": "ipython",
    "version": 3
   },
   "file_extension": ".py",
   "mimetype": "text/x-python",
   "name": "python",
   "nbconvert_exporter": "python",
   "pygments_lexer": "ipython3",
   "version": "3.11.5"
  }
 },
 "nbformat": 4,
 "nbformat_minor": 5
}
